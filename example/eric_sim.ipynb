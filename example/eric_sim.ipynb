{
 "cells": [
  {
   "cell_type": "code",
   "execution_count": null,
   "id": "3ab2f67e-8182-4b7d-8540-313085494a9e",
   "metadata": {},
   "outputs": [],
   "source": [
    "import warnings\n",
    "warnings.filterwarnings('ignore')\n",
    "import flowermd\n",
    "import hoomd\n",
    "import gsd\n",
    "import matplotlib.pyplot as plt\n",
    "import numpy as np\n",
    "import gsd.hoomd\n",
    "from flowermd.base import Pack, Simulation\n",
    "from flowermd.library import KremerGrestBeadSpring, LJChain\n",
    "from flowermd.utils import get_target_box_number_density\n",
    "from flowermd.base import Molecule\n",
    "#from flowermd.library import Graphene\n",
    "from flowermd.library.forcefields import BeadSpring\n",
    "from flowermd.base.forcefield import BaseHOOMDForcefield\n",
    "import unyt as u\n",
    "import hoomd\n",
    "import mbuild as mb\n",
    "import numpy as np\n",
    "from cmeutils.visualize import FresnelGSD\n",
    "cpu = hoomd.device.CPU()"
   ]
  },
  {
   "cell_type": "code",
   "execution_count": null,
   "id": "39e12b41-17c8-4627-b8fe-6f4dbe615809",
   "metadata": {},
   "outputs": [],
   "source": [
    "del sim"
   ]
  },
  {
   "cell_type": "code",
   "execution_count": null,
   "id": "a83d9e43-96e1-4d16-9639-def29502aeae",
   "metadata": {},
   "outputs": [],
   "source": [
    "import mbuild as mb\n",
    "from mbuild.compound import Compound\n",
    "from mbuild.lattice import Lattice\n",
    "\n",
    "from flowermd.base import Molecule, System\n",
    "\n",
    "\n",
    "class Graphene(System):\n",
    "    def __init__(\n",
    "        self,\n",
    "        x_repeat,\n",
    "        y_repeat,\n",
    "        n_layers,\n",
    "        base_units=dict(),\n",
    "        periodicity=(True, True, False),\n",
    "    ):\n",
    "        surface = mb.Compound(periodicity=periodicity)\n",
    "        scale = 1.0 # CHANGE THIS TO SCALE!!\n",
    "        spacings = [s * scale for s in [0.425, 0.246, 0.35]]\n",
    "        points = [\n",
    "            [1 / 6, 0, 0],\n",
    "            [1 / 2, 0, 0],\n",
    "            [0, 1 / 2, 0],\n",
    "            [2 / 3, 1 / 2, 0],\n",
    "        ]\n",
    "        lattice = Lattice(\n",
    "            lattice_spacing=spacings,\n",
    "            angles=[90, 90, 90],\n",
    "            lattice_points={\"A\": points},\n",
    "        )\n",
    "        carbon = Compound(name=\"C\", element=\"C\")\n",
    "        layers = lattice.populate(\n",
    "            compound_dict={\"A\": carbon}, x=x_repeat, y=y_repeat, z=n_layers\n",
    "        )\n",
    "        surface.add(layers)\n",
    "        surface.freud_generate_bonds(\"C\", \"C\", dmin=0.14*scale, dmax=0.145*scale)\n",
    "        surface_mol = Molecule(num_mols=1, compound=surface)\n",
    "        super(Graphene, self).__init__(\n",
    "            molecules=[surface_mol],\n",
    "            base_units=base_units,\n",
    "        )\n",
    "\n",
    "    def _build_system(self):\n",
    "        return self.all_molecules[0]"
   ]
  },
  {
   "cell_type": "code",
   "execution_count": null,
   "id": "890820a8-cf0d-47e0-b8a7-f656907c1d7c",
   "metadata": {},
   "outputs": [],
   "source": [
    "#OK, so we want to initialize a system with some chains and some flakes\n",
    "kg_chain = LJChain(lengths=10,num_mols=1)\n",
    "sheet = Graphene(x_repeat=3, y_repeat=3, n_layers=1, periodicity=(False,False,False))\n",
    "#system = Pack(molecules=[Molecule(compound=sheet.all_molecules[0], num_mols=1), kg_chain], density=0.2)"
   ]
  },
  {
   "cell_type": "code",
   "execution_count": null,
   "id": "d149470a-44b1-42be-83bc-0460944623ed",
   "metadata": {},
   "outputs": [],
   "source": [
    "system.hoomd_snapshot.configuration.box = [10, 10, 10, 0, 0, 0]"
   ]
  },
  {
   "cell_type": "code",
   "execution_count": null,
   "id": "cb6df85e-6c9c-4b89-beaa-42543e8ea421",
   "metadata": {
    "scrolled": true
   },
   "outputs": [],
   "source": [
    "ff = BeadSpring(r_cut=2.5,\n",
    "        beads={\"A\": dict(epsilon=.1, sigma=1.0),\n",
    "               \"C\": dict(epsilon=0.1, sigma=1.0)},\n",
    "        bonds={\"C-C\": dict(r0=0.24599999029207287, k=50), \"A-A\": dict(r0=1.1, k=0.01)},\n",
    "        angles={\"A-A-A\": dict(t0=np.pi, k=0.1),\n",
    "                \"C-C-C\": dict(t0=2*np.pi/3., k=0.1)},\n",
    "        dihedrals={\"A-A-A-A\": dict(phi0=0.0, k=0.1, d=-1, n=1), \"C-C-C-C\": dict(phi0=0.1, k=0.1, d=-1, n=1)})\n",
    "sim = Simulation(initial_state=system.hoomd_snapshot, forcefield=ff.hoomd_forces, device=cpu, dt = 0.0001)\n",
    "sim.state.thermalize_particle_momenta(filter=hoomd.filter.All(), kT=0.1)\n",
    "sim.run_NVT(n_steps=2e4,kT=2.0, tau_kt = 0.1) #short for initial testing\n",
    "sim.flush_writers()\n",
    "sim_visualizer = FresnelGSD(gsd_file=\"trajectory.gsd\", frame=2, view_axis=(1, 1, 1))\n",
    "sim_visualizer.view()\n",
    "# dt of .0001 is as big as we can get with the current parameterization\n",
    "#Issues:\n",
    "# Graphene flakes are initialized way too small, or the bond lengths are wrong\n",
    "# Need to double-check all the bonds, angle, dihedral parameters\n",
    "# then need to go back and get some chain lengths and flake sizes right."
   ]
  },
  {
   "cell_type": "code",
   "execution_count": null,
   "id": "8e9f404f-69f1-46ed-a0af-82ad619a8ced",
   "metadata": {},
   "outputs": [],
   "source": []
  },
  {
   "cell_type": "code",
   "execution_count": null,
   "id": "ad693e44-0e76-46d6-b905-56c634e13bd8",
   "metadata": {},
   "outputs": [],
   "source": []
  }
 ],
 "metadata": {
  "kernelspec": {
   "display_name": "Python 3 (ipykernel)",
   "language": "python",
   "name": "python3"
  },
  "language_info": {
   "codemirror_mode": {
    "name": "ipython",
    "version": 3
   },
   "file_extension": ".py",
   "mimetype": "text/x-python",
   "name": "python",
   "nbconvert_exporter": "python",
   "pygments_lexer": "ipython3",
   "version": "3.12.0"
  }
 },
 "nbformat": 4,
 "nbformat_minor": 5
}
